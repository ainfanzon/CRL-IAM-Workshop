{
  "cells": [
    {
      "cell_type": "markdown",
      "metadata": {
        "id": "view-in-github",
        "colab_type": "text"
      },
      "source": [
        "<a href=\"https://colab.research.google.com/github/ainfanzon/Aerospike-Graph/blob/main/source/wrkshp_repl.ipynb\" target=\"_parent\"><img src=\"https://colab.research.google.com/assets/colab-badge.svg\" alt=\"Open In Colab\"/></a>"
      ]
    },
    {
      "cell_type": "markdown",
      "id": "67ae764a-0ab3-408e-ba28-e248607d7e35",
      "metadata": {
        "id": "67ae764a-0ab3-408e-ba28-e248607d7e35"
      },
      "source": [
        "\n",
        "<img src=\"https://drive.google.com/uc?id=1XYr9Tyrz31a5kZdo601xD1QWz_YM8-H3\">\n",
        "\n",
        "## CockroachDB is a distributed SQL database that is __*highly scalable*__, __*resilient*__, and __*easy to use*__.\n",
        "\n",
        "## Identity and Access Management Workshop\n",
        "---\n",
        "## CockroachDB Overview\n",
        "\n",
        "### Background Concepts\n",
        "\n",
        "This section explains the concepts of ranges, range sets, replicas and leaders (a.k.a, leaseholders) which are the building blocks for\n",
        "[Replication and Rebalancing](https://www.cockroachlabs.com/docs/stable/demo-replication-and-rebalancing).\n",
        "\n",
        "In this section you will:\n",
        "\n",
        "1. Start a 3-node cluster.\n",
        "1. Check the status in the DB Console\n",
        "1. Load some data and verify that it replicates in triplicate by default.\n",
        "\n",
        "<html>\n",
        "<head>\n",
        "<style>\n",
        "table, th, td {\n",
        "  border: 1px solid black;\n",
        "  border-collapse: collapse;\n",
        "}\n",
        "</style>\n",
        "</head>\n",
        "<body>\n",
        "\n",
        "<table style=\"width:100%\">\n",
        "  <tr>\n",
        "      <td align=\"right\">\n",
        "          <img src=\"https://drive.google.com/uc?id=1roJY0K02x6gDV96uXT24ivR_f2gnf2Pb\" width=\"350\" height=\"345\">\n",
        "      </td>\n",
        "      <td style=\"width:5%\" align=\"center\">\n",
        "          &emsp;\n",
        "      </td>\n",
        "      <td align=\"left\">\n",
        "          <img src=\"https://drive.google.com/uc?id=19C2KDL00TdFwcZQX2epcqzMUi4evEMio\" width=\"525\" height=\"275\">\n",
        "      </td>\n",
        "  </tr>\n",
        "</table>\n",
        "\n",
        "</body>\n",
        "</html>\n",
        "\n",
        "#### 1. Start a 3-node cluster.\n",
        "\n",
        "Copy and paste the following statements to your terminal.\n",
        "\n",
        "<code>\n",
        "cockroach start --insecure --listen-addr=10.0.1.2:26257 --join=10.0.1.2:26257,10.0.1.2:26258,10.0.1.2:26259 --http-addr=10.0.1.2:8080 --store=/home/roach_data/cr_data_1 --background<br>\n",
        "cockroach start --insecure --listen-addr=10.0.1.2:26258 --join=10.0.1.2:26257,10.0.1.2:26258,10.0.1.2:26259 --http-addr=10.0.1.2:8081 --store=/home/roach_data/cr_data_2 --background<br>\n",
        "cockroach start --insecure --listen-addr=10.0.1.2:26259 --join=10.0.1.2:26257,10.0.1.2:26258,10.0.1.2:26259 --http-addr=10.0.1.2:8082 --store=/home/roach_data/cr_data_3 --background<br>\n",
        "</code>\n",
        "\n",
        "\n",
        "<code>cockroach init --insecure --host 10.0.1.2</code>\n",
        "\n",
        "You should see this `Cluster successfully initialized` message.\n",
        "\n",
        "Use __`psycopg2`__ to connect to the database cluster using the *__VM External IP__*"
      ]
    },
    {
      "cell_type": "code",
      "source": [
        "import psycopg2\n",
        "from IPython.display import IFrame, display, HTML, Markdown\n",
        "\n",
        "conn = psycopg2.connect(\n",
        "        database = 'defaultdb'\n",
        "      , user = 'root'\n",
        "      , host = '34.94.20.153'                        # Use the GCP Compute Engine external IP address\n",
        "      , port = '26257'\n",
        "      , sslmode = 'disable'\n",
        ")"
      ],
      "metadata": {
        "id": "yeV_CW6ejXEj"
      },
      "id": "yeV_CW6ejXEj",
      "execution_count": 36,
      "outputs": []
    },
    {
      "cell_type": "markdown",
      "source": [
        "#### Validate the cluster has three nodes."
      ],
      "metadata": {
        "id": "Dxdxqu_ZxpvK"
      },
      "id": "Dxdxqu_ZxpvK"
    },
    {
      "cell_type": "code",
      "execution_count": 37,
      "id": "92adb521-beff-4edf-8e81-2a401b5552e4",
      "metadata": {
        "tags": [],
        "colab": {
          "base_uri": "https://localhost:8080/",
          "height": 57
        },
        "id": "92adb521-beff-4edf-8e81-2a401b5552e4",
        "outputId": "6a85ba83-810e-455f-c618-23706ff80aa5"
      },
      "outputs": [
        {
          "output_type": "display_data",
          "data": {
            "text/plain": [
              "<IPython.core.display.Markdown object>"
            ],
            "text/markdown": "<h4><font color=green>CockroachDB cluster has: 3 node(s)</font></h4>"
          },
          "metadata": {}
        }
      ],
      "source": [
        "qry01 = \"\"\"\n",
        "SELECT max(node_id)\n",
        "FROM crdb_internal.gossip_liveness\n",
        "\"\"\"\n",
        "\n",
        "with conn.cursor() as cur:\n",
        "    cur.execute(qry01)\n",
        "    res_tuple = cur.fetchone()\n",
        "    display(Markdown(f'<h4><font color=green>CockroachDB cluster has: {res_tuple[0]} node(s)</font></h4>'))"
      ]
    },
    {
      "cell_type": "markdown",
      "id": "9cbb5aa5-6cf8-4c0b-8e1f-851b9b67d7d1",
      "metadata": {
        "id": "9cbb5aa5-6cf8-4c0b-8e1f-851b9b67d7d1"
      },
      "source": [
        "## Step 2. Load Data"
      ]
    },
    {
      "cell_type": "code",
      "execution_count": null,
      "id": "1b972583-7de6-481c-bd1a-b10e2833dc71",
      "metadata": {
        "tags": [],
        "id": "1b972583-7de6-481c-bd1a-b10e2833dc71"
      },
      "outputs": [],
      "source": [
        "!/opt/homebrew/bin/cockroach workload init intro 'postgres://root@localhost:26257?sslmode=disable'\n",
        "%sql cockroachdb://root@localhost:26257/system?sslmode=disable\n",
        "mytable = %sql SELECT * FROM intro.mytable WHERE (l % 2) = 0\n",
        "print(mytable)"
      ]
    },
    {
      "cell_type": "code",
      "execution_count": null,
      "id": "b48f3f02-84b9-49c8-b12f-424e9279a1c4",
      "metadata": {
        "tags": [],
        "id": "b48f3f02-84b9-49c8-b12f-424e9279a1c4"
      },
      "outputs": [],
      "source": [
        "mytable = %sql SELECT * FROM intro.mytable WHERE (l % 2) = 0\n",
        "print(mytable)"
      ]
    },
    {
      "cell_type": "markdown",
      "id": "281563bc-35e8-4114-b2d2-ecb4ebb01651",
      "metadata": {
        "id": "281563bc-35e8-4114-b2d2-ecb4ebb01651"
      },
      "source": [
        "---\n",
        "## CockroachDB is a distributed SQL database that is __*highly scalable*__, __*resilient*__, and __*easy to use*__.\n",
        "<img src=\"./img/CockroachLabs_Logo.png\">\n",
        "\n",
        "---"
      ]
    }
  ],
  "metadata": {
    "kernelspec": {
      "display_name": "Python 3 (ipykernel)",
      "language": "python",
      "name": "python3"
    },
    "language_info": {
      "codemirror_mode": {
        "name": "ipython",
        "version": 3
      },
      "file_extension": ".py",
      "mimetype": "text/x-python",
      "name": "python",
      "nbconvert_exporter": "python",
      "pygments_lexer": "ipython3",
      "version": "3.11.7"
    },
    "colab": {
      "provenance": [],
      "include_colab_link": true
    }
  },
  "nbformat": 4,
  "nbformat_minor": 5
}